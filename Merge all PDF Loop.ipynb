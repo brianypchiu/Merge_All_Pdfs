{
 "cells": [
  {
   "cell_type": "code",
   "execution_count": 13,
   "id": "7a8ff1c0",
   "metadata": {},
   "outputs": [],
   "source": [
    "import os\n",
    "from PyPDF2 import PdfFileMerger\n",
    "\n",
    "#1st Function: Loop through given directory and its subfolders and return path of specified format files.\n",
    "    #for path, dirs, files in os.walk(root): Generate file names in a directory tree\n",
    "\n",
    "\n",
    "def list_dir(root, exts=None):\n",
    "    result = []\n",
    "    \n",
    "    for path, dirs, files in os.walk(root):\n",
    "        for name in files:\n",
    "            if exts and not name.lower().endswith(exts):\n",
    "                continue \n",
    "\n",
    "            result.append(os.path.join(path, name))\n",
    "                \n",
    "    return result\n",
    "\n",
    "#Where to loop through \n",
    "all_files  = list_dir('folder_path')\n",
    "all_pdfs   = list_dir(r'H:\\Brian\\GIS\\070121_CommunityLineMap\\Map\\Working', '.pdf')\n",
    "all_images = list_dir('folder_path', ('.png', '.jpg', '.gif'))\n",
    "\n",
    "\n",
    "\n",
    "def pdf_merge(iroot):\n",
    "    \n",
    "    merger = PdfFileMerger()    \n",
    "    allpdfs = list_dir(r'H:\\Brian\\GIS\\070121_CommunityLineMap\\Map\\Working', '.pdf')\n",
    "\n",
    "    \n",
    "    for pdf in allpdfs:\n",
    "        merger.append(open(pdf,'rb'))\n",
    "        \n",
    "    with open(iroot+\"\\\\\"+\"tesssst.pdf\",\"wb\") as new_file:\n",
    "        merger.write(new_file)\n",
    "\n",
    "#Save the file to the specified directory        \n",
    "pdf_merge(r\"H:\\Brian\")\n"
   ]
  },
  {
   "cell_type": "code",
   "execution_count": null,
   "id": "63a7b947",
   "metadata": {},
   "outputs": [],
   "source": []
  },
  {
   "cell_type": "code",
   "execution_count": null,
   "id": "88846667",
   "metadata": {},
   "outputs": [],
   "source": []
  }
 ],
 "metadata": {
  "kernelspec": {
   "display_name": "Python 3",
   "language": "python",
   "name": "python3"
  },
  "language_info": {
   "codemirror_mode": {
    "name": "ipython",
    "version": 3
   },
   "file_extension": ".py",
   "mimetype": "text/x-python",
   "name": "python",
   "nbconvert_exporter": "python",
   "pygments_lexer": "ipython3",
   "version": "3.8.8"
  }
 },
 "nbformat": 4,
 "nbformat_minor": 5
}
